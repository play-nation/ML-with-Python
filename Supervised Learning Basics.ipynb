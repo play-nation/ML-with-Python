{
 "cells": [
  {
   "cell_type": "markdown",
   "id": "21c7e6ce-f0cf-410e-b6bd-49a66d91fd1d",
   "metadata": {},
   "source": [
    "## __Agenda__\n",
    "\n",
    "1. Introduction to Supervised Machine Learning\n",
    "2. Supervised Learrning Categories\n",
    "3. Classfication\n",
    "4. Regression\n",
    "5. Application of Supervised Learning\n",
    "6. Supervised Machine Learning Alogrithm: \n",
    "    - a. Liner Regression\n",
    "    - b. Logistic Regression\n",
    "    - c. Naive Bayes\n",
    "    - d. K Nearest Neighbour\n",
    "    - e. Decision Tree\n",
    "    - f. Random Forest\n",
    "    - i. Support Vector Machine"
   ]
  },
  {
   "cell_type": "markdown",
   "id": "ab4db93f-55cd-413f-b91d-babf0cb40d01",
   "metadata": {},
   "source": [
    "### Introduction to Supervised Machine Learning\n",
    "\n",
    "Supervised ML is a type if ML algorithm that learns from a labelled(target value) data,\n",
    "consist of feature(independent variable) and target pair(dependent variable)\n",
    "The goal here is to learn the relationship between the input featues and output target.\n",
    "This enables the model(ML Algo) to make predictions on unseen data.\n",
    "\n",
    "###  Supervised Learrning Categories\n",
    "There are categories of Supervised ML based on the type of target variables.\n",
    "\n",
    "- 1. Regression - When the target variable is of continuous variable then it is a regression task. A continous variable\n",
    "is something that is continous and not counted. \n",
    "    Example:  Temprature, age, height, profit.\n",
    "Implies that there is  a possible of having a value between 2 consecutive value.\n",
    "    \n",
    "- 2. Classification - When the target variable is of categorical nature then it is a classification task. A categorical \n",
    "value is something that is representing a class.\n",
    "    Example: Male/Female/Transgender, Pass/Fail in Exam, \n",
    "A categorical value can also be represented a finite set of numbers."
   ]
  },
  {
   "cell_type": "markdown",
   "id": "39d64860-14b3-47dc-91b4-59349888ae79",
   "metadata": {},
   "source": [
    "### Application of Supervised Learning\n",
    "\n",
    "- HR Operations\n",
    "- Financial Analysis\n",
    "- Weather Analysis\n",
    "- Sales Predictions\n",
    "- Spam Filtering\n",
    "- Manufacturing\n",
    "- Fraud Detection"
   ]
  },
  {
   "cell_type": "markdown",
   "id": "6d2fe02b-8374-44f1-9b53-2575e14395c8",
   "metadata": {},
   "source": [
    "### Supervised Machine Learning Alogrithm: \n",
    "\n",
    "Each Supervised ML follows a different approach and based on the learning styles, purpose and the type of problem it is designed to solve, we can devide them in categories.\n",
    "\n",
    "Commonly used supervised ML algo are as:\n",
    "\n",
    "    - a. Liner Regression(Regression Algo) : Predict House Prices\n",
    "    \n",
    "    - b. Logistic Regression(Classification Algo) : Customers Churn Predicition - Predicting whether a custmer will buy a cross-sell product.\n",
    "    \n",
    "    - c. Naive Bayes (Classification Algo) : Spam Detection\n",
    "    \n",
    "    - d. K Nearest Neighbour (Regression/Classification Algo) : Healthcare Industry\n",
    "    \n",
    "    - e. Decision Tree (Regression/Classification Algo) : Rule Based Decision.\n",
    "    \n",
    "    - f. Random Forest (Regression/Classification Algo) : Credit Scoring\n",
    "    \n",
    "    - i. Support Vector Machine (Regression/Classification Algo) : Social Media Monitoring.\n",
    "\n",
    "\n",
    "We need to use all the Algo/model and then we use the best one performing and fine tune it."
   ]
  },
  {
   "cell_type": "code",
   "execution_count": null,
   "id": "6d66979d-be04-4778-9b89-013a5d3333e7",
   "metadata": {},
   "outputs": [],
   "source": []
  },
  {
   "cell_type": "code",
   "execution_count": null,
   "id": "fca855d3-016f-42e3-8aa4-7fa4a023e2ae",
   "metadata": {},
   "outputs": [],
   "source": []
  },
  {
   "cell_type": "code",
   "execution_count": null,
   "id": "6543f46f-857f-445d-9fb4-39ed0d40eabe",
   "metadata": {},
   "outputs": [],
   "source": []
  },
  {
   "cell_type": "code",
   "execution_count": null,
   "id": "ba47c633-8413-4c42-9adf-d6f253ac0885",
   "metadata": {},
   "outputs": [],
   "source": []
  },
  {
   "cell_type": "code",
   "execution_count": null,
   "id": "8055c02c-c712-4bd1-9da6-c5ba35eb3be9",
   "metadata": {},
   "outputs": [],
   "source": []
  },
  {
   "cell_type": "code",
   "execution_count": null,
   "id": "3a4ccd06-fd6a-480e-8755-65780a6ef8b8",
   "metadata": {},
   "outputs": [],
   "source": []
  }
 ],
 "metadata": {
  "kernelspec": {
   "display_name": "Python 3 (ipykernel)",
   "language": "python",
   "name": "python3"
  },
  "language_info": {
   "codemirror_mode": {
    "name": "ipython",
    "version": 3
   },
   "file_extension": ".py",
   "mimetype": "text/x-python",
   "name": "python",
   "nbconvert_exporter": "python",
   "pygments_lexer": "ipython3",
   "version": "3.12.4"
  }
 },
 "nbformat": 4,
 "nbformat_minor": 5
}
