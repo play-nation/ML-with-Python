{
 "cells": [
  {
   "cell_type": "markdown",
   "id": "848d72c1-bd8c-4e46-826e-c3d240aa6ac3",
   "metadata": {},
   "source": [
    "# MACHINE LEARNING ALGORITHM"
   ]
  },
  {
   "cell_type": "markdown",
   "id": "e0b8d5b9-d8f6-47cf-ad84-5a40883f5295",
   "metadata": {},
   "source": [
    "Supervised Machine Learning Alogrithm:\n",
    "- a. Linear Regression\n",
    "- b. Logistic Regression\n",
    "- c. Naive Bayes\n",
    "- d. K Nearest Neighbour\n",
    "- e. Decision Tree\n",
    "- f. Random Forest\n",
    "- i. Support Vector Machine"
   ]
  },
  {
   "cell_type": "markdown",
   "id": "5fcd2546-8ae6-4f3e-8118-4c8c1dd33fe7",
   "metadata": {},
   "source": [
    "\n",
    "1. Types of Regression\n",
    "- Linear Regression\n",
    "    - a. Simple Linear Regression\n",
    "        - Train Test Split\n",
    "    - b. Multiple Linear Regression\n",
    "        -Overfitting and Underfitting\n",
    "\n",
    "- Non Linear Refression\n",
    "    - a. Polynomial Regression\n",
    "\n",
    "- Model Evaluation and Validation\n",
    "    - Cross Validation Technique\n",
    "    - Performance Metrices for Regression\n",
    "        - Mean Squared Error(MSE)\n",
    "        - Root Mean Squared Error(RMSE)\n",
    "        - Mean Absolute Error (MAE)\n",
    "        - R-Squared                  \n",
    "\n",
    "- Regularization Technique\n",
    "    - Lasso Regression\n",
    "    - Ridge Regression\n",
    "\n",
    "- Hyperparameter Tuning\n",
    "    - GridSearchCV\n",
    "    - RandomSearchCV    "
   ]
  },
  {
   "cell_type": "markdown",
   "id": "e0ab59e0-da4c-489d-9220-11ddb3cce9bc",
   "metadata": {},
   "source": [
    "- Classification\n",
    "- Types of Classification\n",
    "- Binary Classification\n",
    "  * Logistic Regression\n",
    "    - Mathematical Concept of Logistic Regression\n",
    "    - Example with Breast Cancer Dataset\n",
    "  * PErformance Merics used in Classification\n",
    "     - Significance of Confusion Matrix\n",
    "  * Naive bayes Classifier\n",
    "     - Mathematical Concept of Naive Bayes\n",
    "     - Applying Naive Bayes Algorithm on Breast Cancer Dataset\n",
    "  * K Nearest Neighbour (KNN)\n",
    "     - Applying K-Nearest Neighbour or Breast Cancer Dataset\n",
    "     - Hyperparameter Tuning KNN\n",
    "  * Decision Tree\n",
    "     - How Decision Tree works\n",
    "     - Metrics for Splitting\n",
    "     - Pruning\n",
    "     - Applying Decision Tree on Breast Cancer Dataset\n",
    "     - Hyperparameter Tuning in Decision Tree\n",
    "  * Support Vector Maching (SVM)\n",
    "     - Applying SVM on Breast Cancer Dataset\n",
    "     - Hyperparameter Tuning"
   ]
  },
  {
   "cell_type": "code",
   "execution_count": null,
   "id": "6e17078d-dfdc-4207-ad6a-b08c33c3ff57",
   "metadata": {},
   "outputs": [],
   "source": [
    "  "
   ]
  },
  {
   "cell_type": "code",
   "execution_count": null,
   "id": "744c0e0c-e06e-47e5-8caa-42c7fe29fe23",
   "metadata": {},
   "outputs": [],
   "source": []
  }
 ],
 "metadata": {
  "kernelspec": {
   "display_name": "Python 3 (ipykernel)",
   "language": "python",
   "name": "python3"
  },
  "language_info": {
   "codemirror_mode": {
    "name": "ipython",
    "version": 3
   },
   "file_extension": ".py",
   "mimetype": "text/x-python",
   "name": "python",
   "nbconvert_exporter": "python",
   "pygments_lexer": "ipython3",
   "version": "3.12.4"
  }
 },
 "nbformat": 4,
 "nbformat_minor": 5
}
